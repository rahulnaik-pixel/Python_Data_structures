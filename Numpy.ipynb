{
 "cells": [
  {
   "cell_type": "code",
   "execution_count": 1,
   "id": "d45caee5-5e5a-41a9-a98d-2a61b14f429b",
   "metadata": {},
   "outputs": [
    {
     "name": "stdout",
     "output_type": "stream",
     "text": [
      "[0 1 2 3 4 5]\n",
      "<class 'numpy.ndarray'>\n"
     ]
    }
   ],
   "source": [
    "#Q1  Create a NumPy array 'arr' of integers from 0 to 5 and print its data type\n",
    "\n",
    "import numpy as np\n",
    "\n",
    "# Create a NumPy array of integers from 0 to 5\n",
    "arr = np.arange(6)\n",
    "\n",
    "# Print the array\n",
    "print(arr)\n",
    "\n",
    "# Print the data type of the array\n",
    "print(type(arr))\n"
   ]
  },
  {
   "cell_type": "code",
   "execution_count": 2,
   "id": "034cc490-8621-441e-9fb8-ec0572263bd9",
   "metadata": {},
   "outputs": [
    {
     "name": "stdout",
     "output_type": "stream",
     "text": [
      "Is the data type float64? True\n"
     ]
    }
   ],
   "source": [
    "#Given a NumPy array 'arr', check if its data type is float64.\n",
    "#arr =np.array([1.5,2.6,3.7])\n",
    "\n",
    "import numpy as np\n",
    "\n",
    "# Create a NumPy array\n",
    "arr = np.array([1.5, 2.6, 3.7])\n",
    "\n",
    "# Check if the data type is float64\n",
    "is_float64 = arr.dtype == np.float64\n",
    "\n",
    "# Print the result\n",
    "print(\"Is the data type float64?\", is_float64)\n"
   ]
  },
  {
   "cell_type": "code",
   "execution_count": 3,
   "id": "5e329133-8724-471b-8920-bfe4dc7a07dd",
   "metadata": {},
   "outputs": [
    {
     "name": "stdout",
     "output_type": "stream",
     "text": [
      "Array: [1.+2.j 3.+4.j 5.+6.j]\n",
      "Data type: complex128\n"
     ]
    }
   ],
   "source": [
    "#Q3  Create a NumPy array 'arr' with a data type of complex128 containing three complex numbers.\n",
    "\n",
    "import numpy as np\n",
    "\n",
    "# Create a NumPy array with complex128 data type\n",
    "arr = np.array([1+2j, 3+4j, 5+6j], dtype=np.complex128)\n",
    "\n",
    "# Print the array and its data type\n",
    "print(\"Array:\", arr)\n",
    "print(\"Data type:\", arr.dtype)\n",
    "\n"
   ]
  },
  {
   "cell_type": "code",
   "execution_count": 4,
   "id": "17bb9a3f-3b56-4a80-b4bd-c1ed2e81491a",
   "metadata": {},
   "outputs": [
    {
     "name": "stdout",
     "output_type": "stream",
     "text": [
      "Converted Array: [1. 2. 3. 4.]\n",
      "Data Type: float32\n"
     ]
    }
   ],
   "source": [
    "#Q4  Convert an existing NumPy array 'arr' of integers to float32 data type\n",
    "\n",
    "import numpy as np\n",
    "\n",
    "# Example NumPy array of integers\n",
    "arr = np.array([1, 2, 3, 4])\n",
    "\n",
    "# Convert the array to float32 data type\n",
    "arr_float32 = arr.astype(np.float32)\n",
    "\n",
    "# Print the converted array and its data type\n",
    "print(\"Converted Array:\", arr_float32)\n",
    "print(\"Data Type:\", arr_float32.dtype)\n"
   ]
  },
  {
   "cell_type": "code",
   "execution_count": 5,
   "id": "137e75a7-d861-4f5f-81cc-1d9e34d0916b",
   "metadata": {},
   "outputs": [
    {
     "name": "stdout",
     "output_type": "stream",
     "text": [
      "Original Array: [1.5 2.6 3.7]\n",
      "Original Data Type: float64\n",
      "Converted Array: [1.5 2.6 3.7]\n",
      "Converted Data Type: float32\n"
     ]
    }
   ],
   "source": [
    "#Q5 Given a NumPy array 'arr' with float64 data type, convert it to float32 to reduce decimal precision\n",
    "\n",
    "import numpy as np\n",
    "\n",
    "# Example NumPy array with float64 data type\n",
    "arr = np.array([1.5, 2.6, 3.7], dtype=np.float64)\n",
    "\n",
    "# Display the original array and its data type\n",
    "print(\"Original Array:\", arr)\n",
    "print(\"Original Data Type:\", arr.dtype)\n",
    "\n",
    "# Convert the array to float32 data type\n",
    "arr_float32 = arr.astype(np.float32)\n",
    "\n",
    "# Display the converted array and its data type\n",
    "print(\"Converted Array:\", arr_float32)\n",
    "print(\"Converted Data Type:\", arr_float32.dtype)\n"
   ]
  },
  {
   "cell_type": "code",
   "execution_count": 6,
   "id": "19c182b8-bc67-42a8-ac10-101c0f35e583",
   "metadata": {},
   "outputs": [
    {
     "name": "stdout",
     "output_type": "stream",
     "text": [
      "Shape: (2, 2)\n",
      "Size: 4\n",
      "Data Type: float64\n"
     ]
    }
   ],
   "source": [
    "#Q6 Write a function array_attributes that takes a NumPy array as input and returns its shape, size, and data type\n",
    "\n",
    "import numpy as np\n",
    "\n",
    "def array_attributes(arr):\n",
    "    \"\"\"\n",
    "    Returns the shape, size, and data type of a NumPy array.\n",
    "\n",
    "    Parameters:\n",
    "    arr (numpy.ndarray): The input NumPy array.\n",
    "\n",
    "    Returns:\n",
    "    tuple: A tuple containing the shape, size, and data type of the array.\n",
    "    \"\"\"\n",
    "    shape = arr.shape\n",
    "    size = arr.size\n",
    "    dtype = arr.dtype\n",
    "    \n",
    "    return shape, size, dtype\n",
    "\n",
    "# Example usage\n",
    "if __name__ == \"__main__\":\n",
    "    # Create a sample NumPy array\n",
    "    sample_array = np.array([[1.5, 2.6], [3.7, 4.8]], dtype=np.float64)\n",
    "    \n",
    "    # Get the attributes of the sample array\n",
    "    attributes = array_attributes(sample_array)\n",
    "    \n",
    "    # Print the results\n",
    "    print(\"Shape:\", attributes[0])\n",
    "    print(\"Size:\", attributes[1])\n",
    "    print(\"Data Type:\", attributes[2])\n"
   ]
  },
  {
   "cell_type": "code",
   "execution_count": 7,
   "id": "cfbf3c1e-c4a0-4d1f-831c-00c083e68b97",
   "metadata": {},
   "outputs": [
    {
     "name": "stdout",
     "output_type": "stream",
     "text": [
      "Dimensionality of array_1d: 1\n",
      "Dimensionality of array_2d: 2\n",
      "Dimensionality of array_3d: 3\n"
     ]
    }
   ],
   "source": [
    "#Q7 Create a function array_dimension that takes a NumPy array as input and returns its dimensionality\n",
    "\n",
    "import numpy as np\n",
    "\n",
    "def array_dimension(arr):\n",
    "    \"\"\"\n",
    "    Returns the dimensionality of a NumPy array.\n",
    "\n",
    "    Parameters:\n",
    "    arr (numpy.ndarray): The input NumPy array.\n",
    "\n",
    "    Returns:\n",
    "    int: The number of dimensions of the array.\n",
    "    \"\"\"\n",
    "    return arr.ndim\n",
    "\n",
    "# Example usage\n",
    "if __name__ == \"__main__\":\n",
    "    # Create a sample NumPy arrays\n",
    "    array_1d = np.array([1, 2, 3])\n",
    "    array_2d = np.array([[1, 2, 3], [4, 5, 6]])\n",
    "    array_3d = np.array([[[1, 2], [3, 4]], [[5, 6], [7, 8]]])\n",
    "\n",
    "    # Get and print the dimensions of the sample arrays\n",
    "    print(\"Dimensionality of array_1d:\", array_dimension(array_1d))  # Output: 1\n",
    "    print(\"Dimensionality of array_2d:\", array_dimension(array_2d))  # Output: 2\n",
    "    print(\"Dimensionality of array_3d:\", array_dimension(array_3d))  # Output: 3\n",
    "\n"
   ]
  },
  {
   "cell_type": "code",
   "execution_count": 8,
   "id": "acc338a8-2c8e-4229-b6ae-4284469fec4c",
   "metadata": {},
   "outputs": [
    {
     "name": "stdout",
     "output_type": "stream",
     "text": [
      "Item Size (bytes): 8\n",
      "Total Size (bytes): 24\n"
     ]
    }
   ],
   "source": [
    "#Q8. Design a function item_size_info that takes a NumPy array as input and returns the item size and the total size in bytes.\n",
    "\n",
    "import numpy as np\n",
    "\n",
    "def item_size_info(arr):\n",
    "    \"\"\"\n",
    "    Returns the item size and total size in bytes of a NumPy array.\n",
    "\n",
    "    Parameters:\n",
    "    arr (numpy.ndarray): The input NumPy array.\n",
    "\n",
    "    Returns:\n",
    "    tuple: A tuple containing the item size in bytes and total size in bytes.\n",
    "    \"\"\"\n",
    "    item_size = arr.itemsize  # Size of each element in bytes\n",
    "    total_size = arr.nbytes    # Total size of the array in bytes\n",
    "    \n",
    "    return item_size, total_size\n",
    "\n",
    "# Example usage\n",
    "if __name__ == \"__main__\":\n",
    "    # Create a sample NumPy array\n",
    "    sample_array = np.array([1.5, 2.6, 3.7], dtype=np.float64)\n",
    "    \n",
    "    # Get item size and total size information\n",
    "    sizes = item_size_info(sample_array)\n",
    "    \n",
    "    # Print the results\n",
    "    print(\"Item Size (bytes):\", sizes[0])\n",
    "    print(\"Total Size (bytes):\", sizes[1])\n",
    "\n"
   ]
  },
  {
   "cell_type": "code",
   "execution_count": 9,
   "id": "58362935-bf71-42f3-b87d-bad958ef2490",
   "metadata": {},
   "outputs": [
    {
     "name": "stdout",
     "output_type": "stream",
     "text": [
      "Strides (in bytes): (12, 4)\n"
     ]
    }
   ],
   "source": [
    "#Q9 Create a function array_strides that takes a NumPy array as input and returns the strides of the array.\n",
    "\n",
    "import numpy as np\n",
    "\n",
    "def array_strides(arr):\n",
    "    \"\"\"\n",
    "    Returns the strides of a NumPy array.\n",
    "\n",
    "    Parameters:\n",
    "    arr (numpy.ndarray): The input NumPy array.\n",
    "\n",
    "    Returns:\n",
    "    tuple: A tuple containing the strides of the array in bytes.\n",
    "    \"\"\"\n",
    "    return arr.strides\n",
    "\n",
    "# Example usage\n",
    "if __name__ == \"__main__\":\n",
    "    # Create a sample NumPy array\n",
    "    sample_array_2d = np.array([[1, 2, 3], [4, 5, 6]])\n",
    "    \n",
    "    # Get the strides of the sample array\n",
    "    strides = array_strides(sample_array_2d)\n",
    "    \n",
    "    # Print the results\n",
    "    print(\"Strides (in bytes):\", strides)\n"
   ]
  },
  {
   "cell_type": "code",
   "execution_count": 10,
   "id": "552c34ad-163c-4b75-8be6-1e3d20d7ff51",
   "metadata": {},
   "outputs": [
    {
     "name": "stdout",
     "output_type": "stream",
     "text": [
      "Shape: (2, 3)\n",
      "Strides (in bytes): (12, 4)\n"
     ]
    }
   ],
   "source": [
    "#Q10 . Design a function shape_stride_relationship that takes a NumPy array as input and returns the shape and strides of the array\n",
    "\n",
    "import numpy as np\n",
    "\n",
    "def shape_stride_relationship(arr):\n",
    "    \"\"\"\n",
    "    Returns the shape and strides of a NumPy array.\n",
    "\n",
    "    Parameters:\n",
    "    arr (numpy.ndarray): The input NumPy array.\n",
    "\n",
    "    Returns:\n",
    "    tuple: A tuple containing the shape and strides of the array.\n",
    "    \"\"\"\n",
    "    shape = arr.shape  # Get the shape of the array\n",
    "    strides = arr.strides  # Get the strides of the array\n",
    "    \n",
    "    return shape, strides\n",
    "\n",
    "# Example usage\n",
    "if __name__ == \"__main__\":\n",
    "    # Create a sample NumPy array\n",
    "    sample_array = np.array([[1, 2, 3], [4, 5, 6]])\n",
    "    \n",
    "    # Get the shape and strides of the sample array\n",
    "    result = shape_stride_relationship(sample_array)\n",
    "    \n",
    "    # Print the results\n",
    "    print(\"Shape:\", result[0])\n",
    "    print(\"Strides (in bytes):\", result[1])\n"
   ]
  },
  {
   "cell_type": "code",
   "execution_count": null,
   "id": "c64861d1-8e8c-470d-952b-17a165126cd3",
   "metadata": {},
   "outputs": [],
   "source": []
  }
 ],
 "metadata": {
  "kernelspec": {
   "display_name": "Python 3 (ipykernel)",
   "language": "python",
   "name": "python3"
  },
  "language_info": {
   "codemirror_mode": {
    "name": "ipython",
    "version": 3
   },
   "file_extension": ".py",
   "mimetype": "text/x-python",
   "name": "python",
   "nbconvert_exporter": "python",
   "pygments_lexer": "ipython3",
   "version": "3.12.3"
  }
 },
 "nbformat": 4,
 "nbformat_minor": 5
}
