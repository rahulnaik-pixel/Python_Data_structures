{
 "cells": [
  {
   "cell_type": "code",
   "execution_count": 1,
   "id": "e8d2048f-a9cc-4399-9250-f157e5063aa7",
   "metadata": {},
   "outputs": [
    {
     "name": "stdout",
     "output_type": "stream",
     "text": [
      "ihcati\n"
     ]
    }
   ],
   "source": [
    "#Q1 write a code to reverse a string\n",
    "a='itachi'\n",
    "print(a[::-1])"
   ]
  },
  {
   "cell_type": "code",
   "execution_count": 2,
   "id": "17d3963e-5401-4f88-889d-fcc1561c814e",
   "metadata": {},
   "outputs": [
    {
     "name": "stdout",
     "output_type": "stream",
     "text": [
      "6\n"
     ]
    }
   ],
   "source": [
    "#Q2 Write a code to count the number of vowels in a string\n",
    "\n",
    "a='kakashi hatake'\n",
    "vowels=['a','e','i','o','u','A','E','I','O','U']\n",
    "count=0\n",
    "for i in range(len(a)):\n",
    "    if a[i] in vowels:\n",
    "        count=count+1\n",
    "print(count)"
   ]
  },
  {
   "cell_type": "code",
   "execution_count": 3,
   "id": "6fe5015a-2fb9-4989-93ee-ca31aee9a729",
   "metadata": {},
   "outputs": [
    {
     "name": "stdout",
     "output_type": "stream",
     "text": [
      "string is a pallindrome\n"
     ]
    }
   ],
   "source": [
    "#Q3 Write a code to check if a given string is a palindrome or not.\n",
    "\n",
    "a='nitin'\n",
    "\n",
    "if a[:]==a[::-1]:\n",
    "    print('string is a pallindrome')\n",
    "else:\n",
    "    print('string is not a pallindrome')"
   ]
  },
  {
   "cell_type": "code",
   "execution_count": 4,
   "id": "c183283e-9bd1-46c9-b3c0-b80e8dcb993c",
   "metadata": {},
   "outputs": [
    {
     "name": "stdout",
     "output_type": "stream",
     "text": [
      "silent' and 'listen' are anagrams\n"
     ]
    }
   ],
   "source": [
    "#Q4 Write a code to check if two given strings are anagrams of each other\n",
    "\n",
    "a='silent'\n",
    "b='listen'\n",
    "\n",
    "sort_a=sorted(a)\n",
    "sort_b=sorted(b)\n",
    "\n",
    "string_1=''.join(sort_a)\n",
    "string_2=''.join(sort_b)\n",
    "if string_1==string_2:\n",
    "    print(f\"{a}' and '{b}' are anagrams\")\n",
    "else:\n",
    "    print(f\"{a}' and '{b}' are not anagrams\")"
   ]
  },
  {
   "cell_type": "code",
   "execution_count": 5,
   "id": "23ac5f37-9218-43db-b9c1-dbec0af33e78",
   "metadata": {},
   "outputs": [
    {
     "name": "stdout",
     "output_type": "stream",
     "text": [
      "[10, 27, 42]\n"
     ]
    }
   ],
   "source": [
    "#Q5 Write a code to find all occurrences of a given substring within another string\n",
    "\n",
    "main_string = \"This is a test string.This test is only a test.\"\n",
    "substring = \"test\"\n",
    "\n",
    "occurrences = []\n",
    "start = 0\n",
    "    \n",
    "while True:\n",
    "    start = main_string.find(substring, start)\n",
    "    \n",
    "    if start == -1:\n",
    "       break\n",
    "        \n",
    "    occurrences.append(start)\n",
    "    start += 1\n",
    "print(occurrences)"
   ]
  },
  {
   "cell_type": "code",
   "execution_count": 6,
   "id": "7e0864ef-05c4-4225-92da-2ca3b1a24c5a",
   "metadata": {},
   "outputs": [
    {
     "name": "stdout",
     "output_type": "stream",
     "text": [
      "Original string: \"aabbcceee\"\n",
      "Compressed string: \"a2b2c2e3\"\n"
     ]
    }
   ],
   "source": [
    "#Q6 Write a code to perform basic string compression using the counts of repeated characters\n",
    "\n",
    "string = \"aabbcceee\"\n",
    "\n",
    "if not string:  \n",
    "    compressed_string = \"\"\n",
    "else:\n",
    "    compressed = []  \n",
    "    count = 1  \n",
    "    \n",
    "    for i in range(1, len(string)):\n",
    "        if string[i] == string[i - 1]:\n",
    "            count += 1  \n",
    "        else:\n",
    "            compressed.append(string[i - 1] + str(count))\n",
    "            count = 1  \n",
    "\n",
    "    \n",
    "    compressed.append(string[-1] + str(count))\n",
    "    compressed_string = ''.join(compressed)\n",
    "\n",
    "print(f'Original string: \"{string}\"')\n",
    "print(f'Compressed string: \"{compressed_string}\"')\n"
   ]
  },
  {
   "cell_type": "code",
   "execution_count": 7,
   "id": "5bdaa5cb-13d0-48fa-9b5f-3cd140753d40",
   "metadata": {},
   "outputs": [
    {
     "name": "stdout",
     "output_type": "stream",
     "text": [
      "The string \"Rahul\" has all unique characters.\n"
     ]
    }
   ],
   "source": [
    "#Q7 Write a code to determine if a string has all unique characters\n",
    "\n",
    "string = \"Rahul\"  \n",
    "\n",
    "\n",
    "lis=list(string)\n",
    "set1=set(lis)\n",
    "\n",
    "if len(lis)==len(set1):\n",
    "    print(f'The string \"{string}\" has all unique characters.')\n",
    "else:\n",
    "    print(f'The string \"{string}\" does not have all unique characters.')"
   ]
  },
  {
   "cell_type": "code",
   "execution_count": 8,
   "id": "143c21de-34e8-4c63-a072-2e3a2505b34f",
   "metadata": {},
   "outputs": [
    {
     "name": "stdout",
     "output_type": "stream",
     "text": [
      "Original string: Hello, World!\n",
      "Uppercase string: HELLO, WORLD!\n",
      "Lowercase string: hello, world!\n"
     ]
    }
   ],
   "source": [
    "#Q8 Write a code to convert a given string to uppercase or lowercase\n",
    "\n",
    "\n",
    "string= \"Hello, World!\" \n",
    "\n",
    "uppercase=str.upper(string)\n",
    "lowercase=str.lower(string)\n",
    "\n",
    "print(f'Original string: {string}')\n",
    "print(f'Uppercase string: {uppercase}')\n",
    "print(f'Lowercase string: {lowercase}')"
   ]
  },
  {
   "cell_type": "code",
   "execution_count": 9,
   "id": "f816f4b8-3ac9-4dbd-9e51-23544b1a9f7f",
   "metadata": {},
   "outputs": [
    {
     "name": "stdout",
     "output_type": "stream",
     "text": [
      "Number of words: 11\n"
     ]
    }
   ],
   "source": [
    "#Q9  Write a code to count the number of words in a string\n",
    "\n",
    "string = \"This is a sample sentence to count the number of words.\"  \n",
    "word_count = 0\n",
    "words = string.split()  \n",
    "\n",
    "for word in words:\n",
    "    if word:  \n",
    "        word_count += 1\n",
    "        \n",
    "print(f'Number of words: {word_count}')"
   ]
  },
  {
   "cell_type": "code",
   "execution_count": 10,
   "id": "5b2d73db-991d-4071-bd01-e8899671c058",
   "metadata": {},
   "outputs": [
    {
     "name": "stdout",
     "output_type": "stream",
     "text": [
      "Concatenated string: Hello World\n"
     ]
    }
   ],
   "source": [
    "#Q10 Write a code to concatenate two strings without using the + operator \n",
    "string1 = \"Hello \"\n",
    "string2 = \"World\"\n",
    "\n",
    "result = []\n",
    "\n",
    "for char in string1:\n",
    "    result.append(char)\n",
    "    \n",
    "for char in string2:\n",
    "    result.append(char)\n",
    "\n",
    "concatenated_string = ''.join(result)\n",
    "print(f'Concatenated string: {concatenated_string}')"
   ]
  },
  {
   "cell_type": "code",
   "execution_count": 13,
   "id": "24a742e9-4dfa-4d5e-a27d-d410a0131e4d",
   "metadata": {},
   "outputs": [
    {
     "name": "stdout",
     "output_type": "stream",
     "text": [
      "after removing  occurrences 2: [1, 3, 4, 5]\n"
     ]
    }
   ],
   "source": [
    "#Q11 Write a code to remove all occurrences of a specific element from a list \n",
    "inp_list = [1, 2, 3, 2, 4, 2, 5]  \n",
    "element = 2  \n",
    "\n",
    "\n",
    "result = []\n",
    "\n",
    "for i in inp_list:\n",
    "    if i != element:  \n",
    "        result.append(i)  \n",
    "\n",
    "print(f'after removing  occurrences {element}: {result}')"
   ]
  },
  {
   "cell_type": "code",
   "execution_count": 14,
   "id": "5f2cbeb6-a73f-4c11-ae74-d243ea963fac",
   "metadata": {},
   "outputs": [
    {
     "name": "stdout",
     "output_type": "stream",
     "text": [
      "48\n"
     ]
    }
   ],
   "source": [
    "#Q12 Implement a code to find the second largest number in a given list of integers\n",
    "\n",
    "\n",
    "inp_list= [10, 20, 4, 48, 99, 45]  \n",
    "\n",
    "sort=sorted(inp_list)\n",
    "print(sort[-2])"
   ]
  },
  {
   "cell_type": "code",
   "execution_count": 15,
   "id": "99d96bd3-0af1-4c8a-8244-1e89613c3998",
   "metadata": {},
   "outputs": [
    {
     "name": "stdout",
     "output_type": "stream",
     "text": [
      "Input list: [1, 2, 2, 3, 4, 4, 4, 5]\n",
      "Occurrences of each element:\n",
      "{1: 1, 2: 2, 3: 1, 4: 3, 5: 1}\n"
     ]
    }
   ],
   "source": [
    "#Q13 Create a code to count the occurrences of each element in a list and return a dictionary with elements as keys and their counts as values\n",
    "\n",
    "# Input list\n",
    "input_list = [1, 2, 2, 3, 4, 4, 4, 5]  \n",
    "\n",
    "count_dict = {}\n",
    "\n",
    "\n",
    "for item in input_list:\n",
    "    if item in count_dict:\n",
    "        count_dict[item] += 1   \n",
    "    else:\n",
    "        count_dict[item] = 1  \n",
    "\n",
    "\n",
    "print(f'Input list: {input_list}')\n",
    "print('Occurrences of each element:')\n",
    "print(count_dict)"
   ]
  },
  {
   "cell_type": "code",
   "execution_count": 16,
   "id": "65cb8fe4-0419-48b1-ad9c-94951e44991a",
   "metadata": {},
   "outputs": [
    {
     "name": "stdout",
     "output_type": "stream",
     "text": [
      "Reversed list: [6, 5, 4, 3, 2, 1]\n"
     ]
    }
   ],
   "source": [
    "#Q14 Write a code to reverse a list in-place without using any built-in reverse functions\n",
    "\n",
    "input_list = [1, 2, 3, 4, 5,6] \n",
    "\n",
    "start = 0\n",
    "end = len(input_list) - 1\n",
    "\n",
    "result=[]\n",
    "while start <= end:\n",
    "    result.append(input_list[end])\n",
    "    end -= 1\n",
    "\n",
    "\n",
    "print(f'Reversed list: {result}')"
   ]
  },
  {
   "cell_type": "code",
   "execution_count": 17,
   "id": "5312b8d8-cf65-45ea-babf-799edb72b2ac",
   "metadata": {},
   "outputs": [
    {
     "name": "stdout",
     "output_type": "stream",
     "text": [
      "Original list: [1, 2, 3, 2, 4, 3, 5, 1]\n",
      "List after removing duplicates: [1, 2, 3, 4, 5]\n"
     ]
    }
   ],
   "source": [
    "#Q15 Implement a code to find and remove duplicates from a list while preserving the original order of elements\n",
    "\n",
    "# Input list with potential duplicates\n",
    "input_list = [1, 2, 3, 2, 4, 3, 5, 1] \n",
    "\n",
    "unique_list = []\n",
    "\n",
    "seen = set()\n",
    "\n",
    "\n",
    "for item in input_list:\n",
    "    if item not in seen:  \n",
    "        unique_list.append(item) \n",
    "        seen.add(item)  \n",
    "\n",
    "# Output results\n",
    "print(f'Original list: {input_list}')\n",
    "print(f'List after removing duplicates: {unique_list}')"
   ]
  },
  {
   "cell_type": "code",
   "execution_count": 18,
   "id": "5c9afb1d-89f7-485b-b15e-3d9277c166be",
   "metadata": {},
   "outputs": [
    {
     "name": "stdout",
     "output_type": "stream",
     "text": [
      "The list [5, 4, 3, 2, 1] is sorted in descending order.\n"
     ]
    }
   ],
   "source": [
    "#Q16 Create a code to check if a given list is sorted (either in ascending or descending order) or not\n",
    "\n",
    "input_list = [5, 4, 3, 2, 1] \n",
    "\n",
    "\n",
    "is_ascending = True\n",
    "is_descending = True\n",
    "\n",
    "\n",
    "for i in range(len(input_list) - 1):\n",
    "    if input_list[i] < input_list[i + 1]:\n",
    "        is_descending = False  \n",
    "    elif input_list[i] > input_list[i + 1]:\n",
    "        is_ascending = False  \n",
    "\n",
    "# Output results\n",
    "if is_ascending:\n",
    "    print(f'The list {input_list} is sorted in ascending order.')\n",
    "elif is_descending:\n",
    "    print(f'The list {input_list} is sorted in descending order.')\n",
    "else:\n",
    "    print(f'The list {input_list} is not sorted.')"
   ]
  },
  {
   "cell_type": "code",
   "execution_count": 19,
   "id": "7c3344e4-7331-46c1-b38c-3d69b7766e63",
   "metadata": {},
   "outputs": [
    {
     "name": "stdout",
     "output_type": "stream",
     "text": [
      "Merged sorted list: [1, 2, 3, 4, 5, 6, 7, 8]\n"
     ]
    }
   ],
   "source": [
    "#Q17 Write a code to merge two sorted lists into a single sorted list\n",
    "\n",
    "\n",
    "list1 = [1, 3, 5, 7]  \n",
    "list2 = [2, 4, 6, 8]\n",
    "\n",
    "\n",
    "i, j = 0, 0\n",
    "merged_list = []  \n",
    "\n",
    "\n",
    "while i < len(list1) and j < len(list2):\n",
    "    if list1[i] < list2[j]:\n",
    "        merged_list.append(list1[i])  \n",
    "        i += 1  \n",
    "    else:\n",
    "        merged_list.append(list2[j])  \n",
    "        j += 1  \n",
    "        \n",
    "while i < len(list1):\n",
    "    merged_list.append(list1[i])\n",
    "    i += 1\n",
    "\n",
    "while j < len(list2):\n",
    "    merged_list.append(list2[j])\n",
    "    j += 1\n",
    "\n",
    "\n",
    "print(f'Merged sorted list: {merged_list}')"
   ]
  },
  {
   "cell_type": "code",
   "execution_count": 20,
   "id": "62d0af5b-3dd0-4162-831b-6830ce3eb608",
   "metadata": {},
   "outputs": [
    {
     "name": "stdout",
     "output_type": "stream",
     "text": [
      "List 1: [1, 2, 3, 4, 5]\n",
      "List 2: [4, 5, 6, 7, 8]\n",
      "Intersection: [4, 5]\n"
     ]
    }
   ],
   "source": [
    "#Q18 Implement a code to find the intersection of two given lists\n",
    "\n",
    "\n",
    "list1 = [1, 2, 3, 4, 5]  \n",
    "list2 = [4, 5, 6, 7, 8]\n",
    "\n",
    "intersection = []\n",
    "\n",
    "set_list2 = set(list2)\n",
    "\n",
    "for item in list1:\n",
    "    if item in set_list2: \n",
    "        intersection.append(item)  \n",
    "\n",
    "print(f'List 1: {list1}')\n",
    "print(f'List 2: {list2}')\n",
    "print(f'Intersection: {intersection}')"
   ]
  },
  {
   "cell_type": "code",
   "execution_count": 21,
   "id": "8dab7d08-3f17-4022-89e3-e7b8dbfed400",
   "metadata": {},
   "outputs": [
    {
     "name": "stdout",
     "output_type": "stream",
     "text": [
      "List 1: [1, 2, 3, 4, 5]\n",
      "List 2: [4, 5, 6, 7, 8]\n",
      "Union without duplicates: [1, 2, 3, 4, 5, 6, 7, 8]\n"
     ]
    }
   ],
   "source": [
    "#Q19 Create a code to find the union of two lists without duplicates\n",
    "\n",
    "\n",
    "list1 = [1, 2, 3, 4, 5]  \n",
    "list2 = [4, 5, 6, 7, 8]\n",
    "\n",
    "union_set = set()\n",
    "for item in list1:\n",
    "    union_set.add(item)\n",
    "\n",
    "for item in list2:\n",
    "    union_set.add(item)\n",
    "    \n",
    "union_list = sorted(list(union_set))\n",
    "\n",
    "print(f'List 1: {list1}')\n",
    "print(f'List 2: {list2}')\n",
    "print(f'Union without duplicates: {union_list}')"
   ]
  },
  {
   "cell_type": "code",
   "execution_count": 22,
   "id": "77800312-8c9b-4662-84e6-3612038772d4",
   "metadata": {},
   "outputs": [
    {
     "name": "stdout",
     "output_type": "stream",
     "text": [
      "Shuffled list: [3, 1, 4, 2, 5]\n"
     ]
    }
   ],
   "source": [
    "#Q20 Write a code to shuffle a given list randomly without using any built-in shuffle functions\n",
    "\n",
    "import random\n",
    "input_list = [1, 2, 3, 4, 5]  \n",
    "\n",
    "n = len(input_list)\n",
    "\n",
    "for i in range(n - 1, 0, -1):  \n",
    "    j = random.randint(0, i)\n",
    "    input_list[i], input_list[j] = input_list[j], input_list[i]\n",
    "    \n",
    "print(f'Shuffled list: {input_list}')"
   ]
  },
  {
   "cell_type": "code",
   "execution_count": 23,
   "id": "0d7b3bf7-fb01-4737-be0a-681670dd4c28",
   "metadata": {},
   "outputs": [
    {
     "name": "stdout",
     "output_type": "stream",
     "text": [
      "Tuple 1: (1, 2, 3, 4, 5)\n",
      "Tuple 2: (4, 5, 6, 7, 8)\n",
      "Common elements: (4, 5)\n"
     ]
    }
   ],
   "source": [
    "#Q21 Write a code that takes two tuples as input and returns a new tuple containing elements that are common to both input tuples\n",
    "\n",
    "\n",
    "tuple1 = (1, 2, 3, 4, 5)  \n",
    "tuple2 = (4, 5, 6, 7, 8)\n",
    "common_elements = []\n",
    "\n",
    "set_tuple2 = set(tuple2)\n",
    "for item in tuple1:\n",
    "    if item in set_tuple2: \n",
    "        common_elements.append(item)  \n",
    "\n",
    "result_tuple = tuple(common_elements)\n",
    "\n",
    "print(f'Tuple 1: {tuple1}')\n",
    "print(f'Tuple 2: {tuple2}')\n",
    "print(f'Common elements: {result_tuple}')"
   ]
  },
  {
   "cell_type": "code",
   "execution_count": 28,
   "id": "bbfadf14-9bd8-4f13-b883-5b682dd7f5f2",
   "metadata": {},
   "outputs": [
    {
     "name": "stdin",
     "output_type": "stream",
     "text": [
      "Enter the first set of integers, separated by commas:  1,2,2\n",
      "Enter the second set of integers, separated by commas:  2,1,4\n"
     ]
    },
    {
     "name": "stdout",
     "output_type": "stream",
     "text": [
      "First set: {1, 2}\n",
      "Second set: {1, 2, 4}\n",
      "Intersection: {1, 2}\n"
     ]
    }
   ],
   "source": [
    "#Q22 Create a code that prompts the user to enter two sets of integers separated by commas. Then, print the intersection of these two sets\n",
    "\n",
    "input_set1 = input(\"Enter the first set of integers, separated by commas: \")\n",
    "set1 = set(int(num.strip()) for num in input_set1.split(','))\n",
    "\n",
    "input_set2 = input(\"Enter the second set of integers, separated by commas: \")\n",
    "set2 = set(int(num.strip()) for num in input_set2.split(','))\n",
    "\n",
    "intersection = set1.intersection(set2)\n",
    "\n",
    "print(f'First set: {set1}')\n",
    "print(f'Second set: {set2}')\n",
    "print(f'Intersection: {intersection}')"
   ]
  },
  {
   "cell_type": "code",
   "execution_count": null,
   "id": "e2cb17c8-82cf-4797-a753-61bc27b40939",
   "metadata": {},
   "outputs": [],
   "source": [
    "#Q23  Write a code to concatenate two tuples. The function should take two tuples as input and return a new tuple containing elements from both input tuples\n",
    "\n",
    "tuple1 = (1, 2, 3) \n",
    "tuple2 = (4, 5, 6)\n",
    "\n",
    "concatenated_tuple = tuple1 + tuple2\n",
    "\n",
    "print(f'Tuple 1: {tuple1}')\n",
    "print(f'Tuple 2: {tuple2}')\n",
    "print(f'Concatenated tuple: {concatenated_tuple}')"
   ]
  },
  {
   "cell_type": "code",
   "execution_count": 26,
   "id": "7e871da7-3755-483a-bae2-78c35a6e1f68",
   "metadata": {},
   "outputs": [
    {
     "name": "stdin",
     "output_type": "stream",
     "text": [
      "Enter the first set of strings, separated by commas:  apple,banana,grapes\n",
      "Enter the second set of strings, separated by commas:  apple,gwwuhed,wwdde\n"
     ]
    },
    {
     "name": "stdout",
     "output_type": "stream",
     "text": [
      "First set: {'apple', 'banana', 'grapes'}\n",
      "Second set: {'apple', 'wwdde', 'gwwuhed'}\n",
      "Elements in the first set but not in the second set: {'banana', 'grapes'}\n"
     ]
    }
   ],
   "source": [
    "#Q24 Develop a code that prompts the user to input two sets of strings. Then, print the elements that are present in the first set but not in the second set\n",
    "\n",
    "input_set1 = input(\"Enter the first set of strings, separated by commas: \")\n",
    "set1 = set(string.strip() for string in input_set1.split(','))\n",
    "\n",
    "input_set2 = input(\"Enter the second set of strings, separated by commas: \")\n",
    "set2 = set(string.strip() for string in input_set2.split(','))\n",
    "\n",
    "difference = set1.difference(set2)\n",
    "\n",
    "print(f'First set: {set1}')\n",
    "print(f'Second set: {set2}')\n",
    "print(f'Elements in the first set but not in the second set: {difference}')"
   ]
  },
  {
   "cell_type": "code",
   "execution_count": null,
   "id": "87e3b6d3-5d94-4907-8d00-23142ffe862b",
   "metadata": {},
   "outputs": [],
   "source": [
    "#Q25 Create a code that takes a tuple and two integers as input. The function should return a new tuple containing elements from the original tuple within the specified range of indices.\n",
    "\n",
    "\n",
    "input_tuple = (10, 20, 30, 40, 50, 60, 70)  \n",
    "\n",
    "start_index = int(input(\"Enter the start index: \"))\n",
    "end_index = int(input(\"Enter the end index: \"))\n",
    "\n",
    "new_tuple = input_tuple[start_index:end_index]\n",
    "\n",
    "print(f'Original tuple: {input_tuple}')\n",
    "print(f'New tuple with elements from index {start_index} to {end_index - 1}: {new_tuple}')"
   ]
  },
  {
   "cell_type": "code",
   "execution_count": null,
   "id": "51f7a709-0dbc-4aa3-b07c-29445eaf38b0",
   "metadata": {},
   "outputs": [],
   "source": [
    "#Q26 Write a code that prompts the user to input two sets of characters. Then, print the union of these two sets.\n",
    "\n",
    "input_set1 = input(\"Enter the first set of characters, separated by commas: \")\n",
    "set1 = set(char.strip() for char in input_set1.split(','))\n",
    "\n",
    "input_set2 = input(\"Enter the second set of characters, separated by commas: \")\n",
    "set2 = set(char.strip() for char in input_set2.split(','))\n",
    "\n",
    "union_set = set1.union(set2)\n",
    "\n",
    "\n",
    "print(f'First set: {set1}')\n",
    "print(f'Second set: {set2}')\n",
    "print(f'Union of both sets: {union_set}')"
   ]
  },
  {
   "cell_type": "code",
   "execution_count": null,
   "id": "fb925e1a-8092-42e4-8623-7c7acc924f55",
   "metadata": {},
   "outputs": [],
   "source": [
    "#Q27 Develop a code that takes a tuple of integers as input. The function should return the maximum and minimum values from the tuple using tuple unpacking\n",
    "\n",
    "\n",
    "input_tuple = (10, 20, 5, 40, 15)  \n",
    "\n",
    "\n",
    "max_value = input_tuple[0]\n",
    "min_value = input_tuple[0]\n",
    "\n",
    "\n",
    "for number in input_tuple:\n",
    "    if number > max_value:\n",
    "        max_value = number\n",
    "    if number < min_value:\n",
    "        min_value = number\n",
    "\n",
    "result = (max_value, min_value)\n",
    "\n",
    "print(f'Input tuple: {input_tuple}')\n",
    "print(f'Maximum value: {result[0]}, Minimum value: {result[1]}')"
   ]
  },
  {
   "cell_type": "code",
   "execution_count": null,
   "id": "2263e090-df51-4581-bd11-a07bd9b0f917",
   "metadata": {},
   "outputs": [],
   "source": [
    "#Q28 Create a code that defines two sets of integers. Then, print the union, intersection, and difference of these two sets\n",
    "\n",
    "\n",
    "set1 = {1, 2, 3, 4, 5}  \n",
    "set2 = {4, 5, 6, 7, 8}\n",
    "\n",
    "union_set = set1.union(set2)\n",
    "\n",
    "intersection_set = set1.intersection(set2)\n",
    "difference_set = set1.difference(set2)\n",
    "\n",
    "print(f'Set 1: {set1}')\n",
    "print(f'Set 2: {set2}')\n",
    "print(f'Union of both sets: {union_set}')\n",
    "print(f'Intersection of both sets: {intersection_set}')\n",
    "print(f'Difference (Set 1 - Set 2): {difference_set}')"
   ]
  },
  {
   "cell_type": "code",
   "execution_count": null,
   "id": "4a3dc531-4b87-4b8d-ae47-adbcbc344c98",
   "metadata": {},
   "outputs": [],
   "source": [
    "#Q29 Write a code that takes a tuple and an element as input. The function should return the count of occurrences of the given element in the tuple\n",
    "\n",
    "\n",
    "input_tuple = (1, 2, 3, 4, 2, 5, 2)  \n",
    "\n",
    "element_to_count = int(input(\"Enter the element to count in the tuple: \"))\n",
    "count = 0\n",
    "\n",
    "for item in input_tuple:\n",
    "    if item == element_to_count:\n",
    "        count += 1\n",
    "\n",
    "print(f'Input tuple: {input_tuple}')\n",
    "print(f'Element {element_to_count} occurs {count} time(s) in the tuple.')"
   ]
  },
  {
   "cell_type": "code",
   "execution_count": null,
   "id": "72cd9a9e-3440-4252-bbe7-d76070f0f5e8",
   "metadata": {},
   "outputs": [],
   "source": [
    "#Q30 Develop a code that prompts the user to input two sets of strings. Then, print the symmetric difference of these two sets.\n",
    "\n",
    "input_set1 = input(\"Enter the first set of strings, separated by commas: \")\n",
    "set1 = set(string.strip() for string in input_set1.split(','))\n",
    "\n",
    "\n",
    "input_set2 = input(\"Enter the second set of strings, separated by commas: \")\n",
    "set2 = set(string.strip() for string in input_set2.split(','))\n",
    "\n",
    "\n",
    "symmetric_difference = set1.symmetric_difference(set2)\n",
    "\n",
    "print(f'First set: {set1}')\n",
    "print(f'Second set: {set2}')\n",
    "print(f'Symmetric difference: {symmetric_difference}')"
   ]
  },
  {
   "cell_type": "code",
   "execution_count": null,
   "id": "407ff84c-e00c-43dc-8b63-4cacff22ca61",
   "metadata": {},
   "outputs": [],
   "source": [
    "#Q31 Write a code that takes a list of words as input and returns a dictionary where the keys are unique words and the values are the frequencies of those words in the input list\n",
    "\n",
    "input_list = input(\"Enter a list of words separated by spaces: \").split()  # Split input by spaces\n",
    "\n",
    "word_count = {}\n",
    "\n",
    "for word in input_list:\n",
    "    if word in word_count:\n",
    "        word_count[word] += 1 \n",
    "    else:\n",
    "        word_count[word] = 1  \n",
    "\n",
    "print(f'Input list of words: {input_list}')\n",
    "print('Word frequencies:')\n",
    "print(word_count)"
   ]
  },
  {
   "cell_type": "code",
   "execution_count": null,
   "id": "d645dc83-9edd-452f-8479-14cd9f9e960d",
   "metadata": {},
   "outputs": [],
   "source": [
    "#Q32  Write a code that takes two dictionaries as input and merges them into a single dictionary. If there are common keys, the values should be added together\n",
    "\n",
    "input_dict1 = eval(input(\"Enter the first dictionary (e.g., {'a': 1, 'b': 2}): \"))\n",
    "input_dict2 = eval(input(\"Enter the second dictionary (e.g., {'b': 3, 'c': 4}): \"))\n",
    "\n",
    "merged_dict = {}\n",
    "\n",
    "for key, value in input_dict1.items():\n",
    "    merged_dict[key] = value\n",
    "\n",
    "for key, value in input_dict2.items():\n",
    "    if key in merged_dict:\n",
    "        merged_dict[key] += value  \n",
    "    else:\n",
    "        merged_dict[key] = value  \n",
    "\n",
    "# Output results\n",
    "print(f'Merged dictionary: {merged_dict}')"
   ]
  },
  {
   "cell_type": "code",
   "execution_count": null,
   "id": "2d73e883-924d-4a18-8da0-00b5a5ebb699",
   "metadata": {},
   "outputs": [],
   "source": [
    "#Q33 Write a code to access a value in a nested dictionary. The function should take the dictionary and a list of keys as input, and return the corresponding value. If any of the keys do not exist in the dictionary, the function should return None\n",
    "\n",
    "\n",
    "nested_dict = {\n",
    "    'a': {\n",
    "        'b': {\n",
    "            'c': 1,\n",
    "            'd': 2\n",
    "        },\n",
    "        'e': 3\n",
    "    },\n",
    "    'f': 4\n",
    "}\n",
    "\n",
    "keys = input(\"Enter the keys separated by commas (e.g., a,b,c): \").split(',')\n",
    "current_dict = nested_dict\n",
    "\n",
    "for key in keys:\n",
    "    key = key.strip() \n",
    "    if key in current_dict:\n",
    "        current_dict = current_dict[key]  \n",
    "    else:\n",
    "        current_dict = None  \n",
    "        break  \n",
    "\n",
    "if current_dict is not None:\n",
    "    print(f'The value for keys {keys} is: {current_dict}')\n",
    "else:\n",
    "    print(f'One or more keys do not exist in the dictionary. Returning None.')"
   ]
  },
  {
   "cell_type": "code",
   "execution_count": null,
   "id": "60f41931-bc95-4e45-8b3e-570471ca193b",
   "metadata": {},
   "outputs": [],
   "source": [
    "#Q34 Write a code that takes a dictionary as input and returns a sorted version of it based on the values. You can choose whether to sort in ascending or descending order\n",
    "\n",
    "input_dict = {\n",
    "    'apple': 3,\n",
    "    'banana': 1,\n",
    "    'cherry': 2,\n",
    "    'date': 5,\n",
    "    'elderberry': 4\n",
    "}\n",
    "sort_order = input(\"Enter 'asc' for ascending or 'desc' for descending order: \").strip().lower()\n",
    "\n",
    "if sort_order == 'asc':\n",
    "    sorted_dict = dict(sorted(input_dict.items(), key=lambda item: item[1]))\n",
    "elif sort_order == 'desc':\n",
    "    sorted_dict = dict(sorted(input_dict.items(), key=lambda item: item[1], reverse=True))\n",
    "else:\n",
    "    sorted_dict = None\n",
    "    print(\"Invalid order specified. Please enter 'asc' or 'desc'.\")\n",
    "\n",
    "if sorted_dict is not None:\n",
    "    print(f'Sorted dictionary ({sort_order}): {sorted_dict}')"
   ]
  },
  {
   "cell_type": "code",
   "execution_count": null,
   "id": "b27e61d5-b114-40cb-8cf7-ab25dfa1d9ff",
   "metadata": {},
   "outputs": [],
   "source": [
    "#Q35 Write a code that inverts a dictionary, swapping keys and values. Ensure that the inverted dictionary correctly handles cases where multiple keys have the same value by storing the keys as a list in the inverted dictionary\n",
    "\n",
    "input_dict = {\n",
    "    'a': 1,\n",
    "    'b': 2,\n",
    "    'c': 1,\n",
    "    'd': 3,\n",
    "    'e': 2\n",
    "}\n",
    "inverted_dict = {}\n",
    "\n",
    "for key, value in input_dict.items():\n",
    "    if value in inverted_dict:\n",
    "        inverted_dict[value].append(key)\n",
    "    else:\n",
    "        inverted_dict[value] = [key]\n",
    "\n",
    "# Output results\n",
    "print(f'Original dictionary: {input_dict}')\n",
    "print(f'Inverted dictionary: {inverted_dict}')"
   ]
  }
 ],
 "metadata": {
  "kernelspec": {
   "display_name": "Python 3 (ipykernel)",
   "language": "python",
   "name": "python3"
  },
  "language_info": {
   "codemirror_mode": {
    "name": "ipython",
    "version": 3
   },
   "file_extension": ".py",
   "mimetype": "text/x-python",
   "name": "python",
   "nbconvert_exporter": "python",
   "pygments_lexer": "ipython3",
   "version": "3.12.3"
  }
 },
 "nbformat": 4,
 "nbformat_minor": 5
}
